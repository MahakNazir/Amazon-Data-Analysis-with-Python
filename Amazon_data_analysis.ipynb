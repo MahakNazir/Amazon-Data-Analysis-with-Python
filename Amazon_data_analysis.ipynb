{
 "cells": [
  {
   "cell_type": "code",
   "execution_count": 38,
   "id": "e7abd1bf",
   "metadata": {},
   "outputs": [],
   "source": [
    "# import python libraries\n",
    "\n",
    "import numpy as np \n",
    "import pandas as pd \n",
    "import matplotlib.pyplot as plt # visualizing data\n",
    "%matplotlib inline\n",
    "import seaborn as sns\n",
    "from textblob import TextBlob"
   ]
  },
  {
   "cell_type": "code",
   "execution_count": 8,
   "id": "259b605d",
   "metadata": {},
   "outputs": [],
   "source": [
    "df = pd.read_csv('amazon.csv', encoding= 'unicode_escape')"
   ]
  },
  {
   "cell_type": "code",
   "execution_count": 9,
   "id": "c45163e7",
   "metadata": {},
   "outputs": [
    {
     "data": {
      "text/plain": [
       "(1465, 16)"
      ]
     },
     "execution_count": 9,
     "metadata": {},
     "output_type": "execute_result"
    }
   ],
   "source": [
    "df.shape"
   ]
  },
  {
   "cell_type": "code",
   "execution_count": 10,
   "id": "9a4707c9",
   "metadata": {},
   "outputs": [
    {
     "data": {
      "text/html": [
       "<div>\n",
       "<style scoped>\n",
       "    .dataframe tbody tr th:only-of-type {\n",
       "        vertical-align: middle;\n",
       "    }\n",
       "\n",
       "    .dataframe tbody tr th {\n",
       "        vertical-align: top;\n",
       "    }\n",
       "\n",
       "    .dataframe thead th {\n",
       "        text-align: right;\n",
       "    }\n",
       "</style>\n",
       "<table border=\"1\" class=\"dataframe\">\n",
       "  <thead>\n",
       "    <tr style=\"text-align: right;\">\n",
       "      <th></th>\n",
       "      <th>product_id</th>\n",
       "      <th>product_name</th>\n",
       "      <th>category</th>\n",
       "      <th>discounted_price</th>\n",
       "      <th>actual_price</th>\n",
       "      <th>discount_percentage</th>\n",
       "      <th>rating</th>\n",
       "      <th>rating_count</th>\n",
       "      <th>about_product</th>\n",
       "      <th>user_id</th>\n",
       "      <th>user_name</th>\n",
       "      <th>review_id</th>\n",
       "      <th>review_title</th>\n",
       "      <th>review_content</th>\n",
       "      <th>img_link</th>\n",
       "      <th>product_link</th>\n",
       "    </tr>\n",
       "  </thead>\n",
       "  <tbody>\n",
       "    <tr>\n",
       "      <th>0</th>\n",
       "      <td>B07JW9H4J1</td>\n",
       "      <td>Wayona Nylon Braided USB to Lightning Fast Cha...</td>\n",
       "      <td>Computers&amp;Accessories|Accessories&amp;Peripherals|...</td>\n",
       "      <td>â¹399</td>\n",
       "      <td>â¹1,099</td>\n",
       "      <td>64%</td>\n",
       "      <td>4.2</td>\n",
       "      <td>24,269</td>\n",
       "      <td>High Compatibility : Compatible With iPhone 12...</td>\n",
       "      <td>AG3D6O4STAQKAY2UVGEUV46KN35Q,AHMY5CWJMMK5BJRBB...</td>\n",
       "      <td>Manav,Adarsh gupta,Sundeep,S.Sayeed Ahmed,jasp...</td>\n",
       "      <td>R3HXWT0LRP0NMF,R2AJM3LFTLZHFO,R6AQJGUP6P86,R1K...</td>\n",
       "      <td>Satisfied,Charging is really fast,Value for mo...</td>\n",
       "      <td>Looks durable Charging is fine tooNo complains...</td>\n",
       "      <td>https://m.media-amazon.com/images/W/WEBP_40237...</td>\n",
       "      <td>https://www.amazon.in/Wayona-Braided-WN3LG1-Sy...</td>\n",
       "    </tr>\n",
       "    <tr>\n",
       "      <th>1</th>\n",
       "      <td>B098NS6PVG</td>\n",
       "      <td>Ambrane Unbreakable 60W / 3A Fast Charging 1.5...</td>\n",
       "      <td>Computers&amp;Accessories|Accessories&amp;Peripherals|...</td>\n",
       "      <td>â¹199</td>\n",
       "      <td>â¹349</td>\n",
       "      <td>43%</td>\n",
       "      <td>4</td>\n",
       "      <td>43,994</td>\n",
       "      <td>Compatible with all Type C enabled devices, be...</td>\n",
       "      <td>AECPFYFQVRUWC3KGNLJIOREFP5LQ,AGYYVPDD7YG7FYNBX...</td>\n",
       "      <td>ArdKn,Nirbhay kumar,Sagar Viswanathan,Asp,Plac...</td>\n",
       "      <td>RGIQEG07R9HS2,R1SMWZQ86XIN8U,R2J3Y1WL29GWDE,RY...</td>\n",
       "      <td>A Good Braided Cable for Your Type C Device,Go...</td>\n",
       "      <td>I ordered this cable to connect my phone to An...</td>\n",
       "      <td>https://m.media-amazon.com/images/W/WEBP_40237...</td>\n",
       "      <td>https://www.amazon.in/Ambrane-Unbreakable-Char...</td>\n",
       "    </tr>\n",
       "    <tr>\n",
       "      <th>2</th>\n",
       "      <td>B096MSW6CT</td>\n",
       "      <td>Sounce Fast Phone Charging Cable &amp; Data Sync U...</td>\n",
       "      <td>Computers&amp;Accessories|Accessories&amp;Peripherals|...</td>\n",
       "      <td>â¹199</td>\n",
       "      <td>â¹1,899</td>\n",
       "      <td>90%</td>\n",
       "      <td>3.9</td>\n",
       "      <td>7,928</td>\n",
       "      <td>ã Fast Charger&amp; Data Syncã-With built-in s...</td>\n",
       "      <td>AGU3BBQ2V2DDAMOAKGFAWDDQ6QHA,AESFLDV2PT363T2AQ...</td>\n",
       "      <td>Kunal,Himanshu,viswanath,sai niharka,saqib mal...</td>\n",
       "      <td>R3J3EQQ9TZI5ZJ,R3E7WBGK7ID0KV,RWU79XKQ6I1QF,R2...</td>\n",
       "      <td>Good speed for earlier versions,Good Product,W...</td>\n",
       "      <td>Not quite durable and sturdy,https://m.media-a...</td>\n",
       "      <td>https://m.media-amazon.com/images/W/WEBP_40237...</td>\n",
       "      <td>https://www.amazon.in/Sounce-iPhone-Charging-C...</td>\n",
       "    </tr>\n",
       "    <tr>\n",
       "      <th>3</th>\n",
       "      <td>B08HDJ86NZ</td>\n",
       "      <td>boAt Deuce USB 300 2 in 1 Type-C &amp; Micro USB S...</td>\n",
       "      <td>Computers&amp;Accessories|Accessories&amp;Peripherals|...</td>\n",
       "      <td>â¹329</td>\n",
       "      <td>â¹699</td>\n",
       "      <td>53%</td>\n",
       "      <td>4.2</td>\n",
       "      <td>94,363</td>\n",
       "      <td>The boAt Deuce USB 300 2 in 1 cable is compati...</td>\n",
       "      <td>AEWAZDZZJLQUYVOVGBEUKSLXHQ5A,AG5HTSFRRE6NL3M5S...</td>\n",
       "      <td>Omkar dhale,JD,HEMALATHA,Ajwadh a.,amar singh ...</td>\n",
       "      <td>R3EEUZKKK9J36I,R3HJVYCLYOY554,REDECAZ7AMPQC,R1...</td>\n",
       "      <td>Good product,Good one,Nice,Really nice product...</td>\n",
       "      <td>Good product,long wire,Charges good,Nice,I bou...</td>\n",
       "      <td>https://m.media-amazon.com/images/I/41V5FtEWPk...</td>\n",
       "      <td>https://www.amazon.in/Deuce-300-Resistant-Tang...</td>\n",
       "    </tr>\n",
       "    <tr>\n",
       "      <th>4</th>\n",
       "      <td>B08CF3B7N1</td>\n",
       "      <td>Portronics Konnect L 1.2M Fast Charging 3A 8 P...</td>\n",
       "      <td>Computers&amp;Accessories|Accessories&amp;Peripherals|...</td>\n",
       "      <td>â¹154</td>\n",
       "      <td>â¹399</td>\n",
       "      <td>61%</td>\n",
       "      <td>4.2</td>\n",
       "      <td>16,905</td>\n",
       "      <td>[CHARGE &amp; SYNC FUNCTION]- This cable comes wit...</td>\n",
       "      <td>AE3Q6KSUK5P75D5HFYHCRAOLODSA,AFUGIFH5ZAFXRDSZH...</td>\n",
       "      <td>rahuls6099,Swasat Borah,Ajay Wadke,Pranali,RVK...</td>\n",
       "      <td>R1BP4L2HH9TFUP,R16PVJEXKV6QZS,R2UPDB81N66T4P,R...</td>\n",
       "      <td>As good as original,Decent,Good one for second...</td>\n",
       "      <td>Bought this instead of original apple, does th...</td>\n",
       "      <td>https://m.media-amazon.com/images/W/WEBP_40237...</td>\n",
       "      <td>https://www.amazon.in/Portronics-Konnect-POR-1...</td>\n",
       "    </tr>\n",
       "  </tbody>\n",
       "</table>\n",
       "</div>"
      ],
      "text/plain": [
       "   product_id                                       product_name  \\\n",
       "0  B07JW9H4J1  Wayona Nylon Braided USB to Lightning Fast Cha...   \n",
       "1  B098NS6PVG  Ambrane Unbreakable 60W / 3A Fast Charging 1.5...   \n",
       "2  B096MSW6CT  Sounce Fast Phone Charging Cable & Data Sync U...   \n",
       "3  B08HDJ86NZ  boAt Deuce USB 300 2 in 1 Type-C & Micro USB S...   \n",
       "4  B08CF3B7N1  Portronics Konnect L 1.2M Fast Charging 3A 8 P...   \n",
       "\n",
       "                                            category discounted_price  \\\n",
       "0  Computers&Accessories|Accessories&Peripherals|...           â¹399   \n",
       "1  Computers&Accessories|Accessories&Peripherals|...           â¹199   \n",
       "2  Computers&Accessories|Accessories&Peripherals|...           â¹199   \n",
       "3  Computers&Accessories|Accessories&Peripherals|...           â¹329   \n",
       "4  Computers&Accessories|Accessories&Peripherals|...           â¹154   \n",
       "\n",
       "  actual_price discount_percentage rating rating_count  \\\n",
       "0     â¹1,099                 64%    4.2       24,269   \n",
       "1       â¹349                 43%      4       43,994   \n",
       "2     â¹1,899                 90%    3.9        7,928   \n",
       "3       â¹699                 53%    4.2       94,363   \n",
       "4       â¹399                 61%    4.2       16,905   \n",
       "\n",
       "                                       about_product  \\\n",
       "0  High Compatibility : Compatible With iPhone 12...   \n",
       "1  Compatible with all Type C enabled devices, be...   \n",
       "2  ã Fast Charger& Data Syncã-With built-in s...   \n",
       "3  The boAt Deuce USB 300 2 in 1 cable is compati...   \n",
       "4  [CHARGE & SYNC FUNCTION]- This cable comes wit...   \n",
       "\n",
       "                                             user_id  \\\n",
       "0  AG3D6O4STAQKAY2UVGEUV46KN35Q,AHMY5CWJMMK5BJRBB...   \n",
       "1  AECPFYFQVRUWC3KGNLJIOREFP5LQ,AGYYVPDD7YG7FYNBX...   \n",
       "2  AGU3BBQ2V2DDAMOAKGFAWDDQ6QHA,AESFLDV2PT363T2AQ...   \n",
       "3  AEWAZDZZJLQUYVOVGBEUKSLXHQ5A,AG5HTSFRRE6NL3M5S...   \n",
       "4  AE3Q6KSUK5P75D5HFYHCRAOLODSA,AFUGIFH5ZAFXRDSZH...   \n",
       "\n",
       "                                           user_name  \\\n",
       "0  Manav,Adarsh gupta,Sundeep,S.Sayeed Ahmed,jasp...   \n",
       "1  ArdKn,Nirbhay kumar,Sagar Viswanathan,Asp,Plac...   \n",
       "2  Kunal,Himanshu,viswanath,sai niharka,saqib mal...   \n",
       "3  Omkar dhale,JD,HEMALATHA,Ajwadh a.,amar singh ...   \n",
       "4  rahuls6099,Swasat Borah,Ajay Wadke,Pranali,RVK...   \n",
       "\n",
       "                                           review_id  \\\n",
       "0  R3HXWT0LRP0NMF,R2AJM3LFTLZHFO,R6AQJGUP6P86,R1K...   \n",
       "1  RGIQEG07R9HS2,R1SMWZQ86XIN8U,R2J3Y1WL29GWDE,RY...   \n",
       "2  R3J3EQQ9TZI5ZJ,R3E7WBGK7ID0KV,RWU79XKQ6I1QF,R2...   \n",
       "3  R3EEUZKKK9J36I,R3HJVYCLYOY554,REDECAZ7AMPQC,R1...   \n",
       "4  R1BP4L2HH9TFUP,R16PVJEXKV6QZS,R2UPDB81N66T4P,R...   \n",
       "\n",
       "                                        review_title  \\\n",
       "0  Satisfied,Charging is really fast,Value for mo...   \n",
       "1  A Good Braided Cable for Your Type C Device,Go...   \n",
       "2  Good speed for earlier versions,Good Product,W...   \n",
       "3  Good product,Good one,Nice,Really nice product...   \n",
       "4  As good as original,Decent,Good one for second...   \n",
       "\n",
       "                                      review_content  \\\n",
       "0  Looks durable Charging is fine tooNo complains...   \n",
       "1  I ordered this cable to connect my phone to An...   \n",
       "2  Not quite durable and sturdy,https://m.media-a...   \n",
       "3  Good product,long wire,Charges good,Nice,I bou...   \n",
       "4  Bought this instead of original apple, does th...   \n",
       "\n",
       "                                            img_link  \\\n",
       "0  https://m.media-amazon.com/images/W/WEBP_40237...   \n",
       "1  https://m.media-amazon.com/images/W/WEBP_40237...   \n",
       "2  https://m.media-amazon.com/images/W/WEBP_40237...   \n",
       "3  https://m.media-amazon.com/images/I/41V5FtEWPk...   \n",
       "4  https://m.media-amazon.com/images/W/WEBP_40237...   \n",
       "\n",
       "                                        product_link  \n",
       "0  https://www.amazon.in/Wayona-Braided-WN3LG1-Sy...  \n",
       "1  https://www.amazon.in/Ambrane-Unbreakable-Char...  \n",
       "2  https://www.amazon.in/Sounce-iPhone-Charging-C...  \n",
       "3  https://www.amazon.in/Deuce-300-Resistant-Tang...  \n",
       "4  https://www.amazon.in/Portronics-Konnect-POR-1...  "
      ]
     },
     "execution_count": 10,
     "metadata": {},
     "output_type": "execute_result"
    }
   ],
   "source": [
    "df.head()"
   ]
  },
  {
   "cell_type": "code",
   "execution_count": 11,
   "id": "28274764",
   "metadata": {},
   "outputs": [
    {
     "name": "stdout",
     "output_type": "stream",
     "text": [
      "<class 'pandas.core.frame.DataFrame'>\n",
      "RangeIndex: 1465 entries, 0 to 1464\n",
      "Data columns (total 16 columns):\n",
      " #   Column               Non-Null Count  Dtype \n",
      "---  ------               --------------  ----- \n",
      " 0   product_id           1465 non-null   object\n",
      " 1   product_name         1465 non-null   object\n",
      " 2   category             1465 non-null   object\n",
      " 3   discounted_price     1465 non-null   object\n",
      " 4   actual_price         1465 non-null   object\n",
      " 5   discount_percentage  1465 non-null   object\n",
      " 6   rating               1465 non-null   object\n",
      " 7   rating_count         1463 non-null   object\n",
      " 8   about_product        1465 non-null   object\n",
      " 9   user_id              1465 non-null   object\n",
      " 10  user_name            1465 non-null   object\n",
      " 11  review_id            1465 non-null   object\n",
      " 12  review_title         1465 non-null   object\n",
      " 13  review_content       1465 non-null   object\n",
      " 14  img_link             1465 non-null   object\n",
      " 15  product_link         1465 non-null   object\n",
      "dtypes: object(16)\n",
      "memory usage: 183.2+ KB\n"
     ]
    }
   ],
   "source": [
    "df.info()"
   ]
  },
  {
   "cell_type": "code",
   "execution_count": 12,
   "id": "94c5f7f0",
   "metadata": {},
   "outputs": [],
   "source": [
    "#drop unrelated/blank columns\n",
    "df.drop(['img_link', 'review_title'], axis=1, inplace=True)"
   ]
  },
  {
   "cell_type": "code",
   "execution_count": 13,
   "id": "b68e3046",
   "metadata": {},
   "outputs": [
    {
     "data": {
      "text/plain": [
       "product_id             0\n",
       "product_name           0\n",
       "category               0\n",
       "discounted_price       0\n",
       "actual_price           0\n",
       "discount_percentage    0\n",
       "rating                 0\n",
       "rating_count           2\n",
       "about_product          0\n",
       "user_id                0\n",
       "user_name              0\n",
       "review_id              0\n",
       "review_content         0\n",
       "product_link           0\n",
       "dtype: int64"
      ]
     },
     "execution_count": 13,
     "metadata": {},
     "output_type": "execute_result"
    }
   ],
   "source": [
    "#check for null values\n",
    "pd.isnull(df).sum()"
   ]
  },
  {
   "cell_type": "code",
   "execution_count": 14,
   "id": "3a8285f3",
   "metadata": {},
   "outputs": [],
   "source": [
    "df['discount_percentage'] = df['discount_percentage'].str.strip('%').astype(float)"
   ]
  },
  {
   "cell_type": "code",
   "execution_count": 15,
   "id": "bd828bd2",
   "metadata": {},
   "outputs": [
    {
     "data": {
      "text/plain": [
       "dtype('float64')"
      ]
     },
     "execution_count": 15,
     "metadata": {},
     "output_type": "execute_result"
    }
   ],
   "source": [
    "df['discount_percentage'].dtypes\n",
    "#To verify the change in data type"
   ]
  },
  {
   "cell_type": "code",
   "execution_count": 16,
   "id": "d9cc95dd",
   "metadata": {
    "scrolled": true
   },
   "outputs": [
    {
     "data": {
      "text/html": [
       "<div>\n",
       "<style scoped>\n",
       "    .dataframe tbody tr th:only-of-type {\n",
       "        vertical-align: middle;\n",
       "    }\n",
       "\n",
       "    .dataframe tbody tr th {\n",
       "        vertical-align: top;\n",
       "    }\n",
       "\n",
       "    .dataframe thead th {\n",
       "        text-align: right;\n",
       "    }\n",
       "</style>\n",
       "<table border=\"1\" class=\"dataframe\">\n",
       "  <thead>\n",
       "    <tr style=\"text-align: right;\">\n",
       "      <th></th>\n",
       "      <th>discount_percentage</th>\n",
       "    </tr>\n",
       "  </thead>\n",
       "  <tbody>\n",
       "    <tr>\n",
       "      <th>count</th>\n",
       "      <td>1465.000000</td>\n",
       "    </tr>\n",
       "    <tr>\n",
       "      <th>mean</th>\n",
       "      <td>47.691468</td>\n",
       "    </tr>\n",
       "    <tr>\n",
       "      <th>std</th>\n",
       "      <td>21.635905</td>\n",
       "    </tr>\n",
       "    <tr>\n",
       "      <th>min</th>\n",
       "      <td>0.000000</td>\n",
       "    </tr>\n",
       "    <tr>\n",
       "      <th>25%</th>\n",
       "      <td>32.000000</td>\n",
       "    </tr>\n",
       "    <tr>\n",
       "      <th>50%</th>\n",
       "      <td>50.000000</td>\n",
       "    </tr>\n",
       "    <tr>\n",
       "      <th>75%</th>\n",
       "      <td>63.000000</td>\n",
       "    </tr>\n",
       "    <tr>\n",
       "      <th>max</th>\n",
       "      <td>94.000000</td>\n",
       "    </tr>\n",
       "  </tbody>\n",
       "</table>\n",
       "</div>"
      ],
      "text/plain": [
       "       discount_percentage\n",
       "count          1465.000000\n",
       "mean             47.691468\n",
       "std              21.635905\n",
       "min               0.000000\n",
       "25%              32.000000\n",
       "50%              50.000000\n",
       "75%              63.000000\n",
       "max              94.000000"
      ]
     },
     "execution_count": 16,
     "metadata": {},
     "output_type": "execute_result"
    }
   ],
   "source": [
    "# describe() method returns description of the data in the DataFrame (i.e. count, mean, std, etc)\n",
    "df.describe()"
   ]
  },
  {
   "cell_type": "markdown",
   "id": "9a9ecf68",
   "metadata": {},
   "source": [
    "Data Visualization: Visualize different aspects of the data to gain insights."
   ]
  },
  {
   "cell_type": "code",
   "execution_count": 20,
   "id": "540bd325",
   "metadata": {},
   "outputs": [
    {
     "data": {
      "image/png": "[encoded data removed]",
      "text/plain": [
       "<Figure size 1500x500 with 1 Axes>"
      ]
     },
     "metadata": {},
     "output_type": "display_data"
    }
   ],
   "source": [
    "sns.histplot(df['rating'], bins=10)\n",
    "sns.set(rc={'figure.figsize':(20,5)})\n",
    "plt.xlabel('Rating')\n",
    "plt.ylabel('Count')\n",
    "plt.title('Distribution of Ratings')\n",
    "plt.show()\n"
   ]
  },
  {
   "cell_type": "code",
   "execution_count": 35,
   "id": "c44325a7",
   "metadata": {},
   "outputs": [
    {
     "data": {
      "image/png": "[encoded data removed]",
      "text/plain": [
       "<Figure size 2000x500 with 1 Axes>"
      ]
     },
     "metadata": {},
     "output_type": "display_data"
    }
   ],
   "source": [
    "# Visualize the relationship between rating and discounted price\n",
    "sns.scatterplot(x='rating', y='discounted_price', data=df)\n",
    "plt.xlabel('Rating')\n",
    "plt.ylabel('Discounted Price')\n",
    "plt.title('Rating vs Discounted Price')\n",
    "plt.show()"
   ]
  },
  {
   "cell_type": "markdown",
   "id": "802a513f",
   "metadata": {},
   "source": [
    "Aggregation and Grouping: Group data to get insights based on categories or other attributes."
   ]
  },
  {
   "cell_type": "code",
   "execution_count": 36,
   "id": "6666c112",
   "metadata": {
    "scrolled": true
   },
   "outputs": [
    {
     "name": "stdout",
     "output_type": "stream",
     "text": [
      "                                                    discount_percentage  \\\n",
      "category                                                                  \n",
      "Car&Motorbike|CarAccessories|InteriorAccessorie...                 42.0   \n",
      "Computers&Accessories|Accessories&Peripherals|A...                 78.5   \n",
      "Computers&Accessories|Accessories&Peripherals|A...                 35.0   \n",
      "Computers&Accessories|Accessories&Peripherals|A...                 56.5   \n",
      "Computers&Accessories|Accessories&Peripherals|A...                 46.5   \n",
      "...                                                                 ...   \n",
      "OfficeProducts|OfficePaperProducts|Paper|Statio...                  0.0   \n",
      "OfficeProducts|OfficePaperProducts|Paper|Statio...                  5.0   \n",
      "OfficeProducts|OfficePaperProducts|Paper|Statio...                 17.5   \n",
      "OfficeProducts|OfficePaperProducts|Paper|Statio...                 13.0   \n",
      "Toys&Games|Arts&Crafts|Drawing&PaintingSupplies...                  0.0   \n",
      "\n",
      "                                                       rating_count  \n",
      "category                                                             \n",
      "Car&Motorbike|CarAccessories|InteriorAccessorie...            1,118  \n",
      "Computers&Accessories|Accessories&Peripherals|A...       4,4261,540  \n",
      "Computers&Accessories|Accessories&Peripherals|A...            7,222  \n",
      "Computers&Accessories|Accessories&Peripherals|A...      14,9692,804  \n",
      "Computers&Accessories|Accessories&Peripherals|A...       7,3525,195  \n",
      "...                                                             ...  \n",
      "OfficeProducts|OfficePaperProducts|Paper|Statio...       5,7922,628  \n",
      "OfficeProducts|OfficePaperProducts|Paper|Statio...       6,1991,926  \n",
      "OfficeProducts|OfficePaperProducts|Paper|Statio...       5,7192,450  \n",
      "OfficeProducts|OfficePaperProducts|Paper|Statio...  4,3083,6862,493  \n",
      "Toys&Games|Arts&Crafts|Drawing&PaintingSupplies...           15,867  \n",
      "\n",
      "[211 rows x 2 columns]\n"
     ]
    }
   ],
   "source": [
    "# Group by category and calculate average discount percentage and rating count\n",
    "category_stats = df.groupby('category').agg({'discount_percentage': 'mean', 'rating_count': 'sum'})\n",
    "print(category_stats)\n"
   ]
  },
  {
   "cell_type": "markdown",
   "id": "523ee67a",
   "metadata": {},
   "source": [
    "Sentiment Analysis: Analyze product reviews to determine sentiment."
   ]
  },
  {
   "cell_type": "code",
   "execution_count": 39,
   "id": "057610bd",
   "metadata": {},
   "outputs": [],
   "source": [
    "# Sentiment analysis using TextBlob\n",
    "df['review_sentiment'] = df['review_content'].apply(lambda x: TextBlob(x).sentiment.polarity)\n"
   ]
  },
  {
   "cell_type": "code",
   "execution_count": 40,
   "id": "a1ff883b",
   "metadata": {},
   "outputs": [
    {
     "data": {
      "image/png": "[encoded data removed]",
      "text/plain": [
       "<Figure size 2000x500 with 1 Axes>"
      ]
     },
     "metadata": {},
     "output_type": "display_data"
    }
   ],
   "source": [
    "# Visualize sentiment distribution\n",
    "sns.histplot(df['review_sentiment'], bins=10)\n",
    "plt.xlabel('Sentiment Polarity')\n",
    "plt.ylabel('Count')\n",
    "plt.title('Sentiment Analysis of Reviews')\n",
    "plt.show()"
   ]
  },
  {
   "cell_type": "code",
   "execution_count": 42,
   "id": "15964d68",
   "metadata": {},
   "outputs": [],
   "source": [
    "# Sort the DataFrame by 'rating' in descending order\n",
    "df_sorted = df.sort_values(by='rating', ascending=False)\n"
   ]
  },
  {
   "cell_type": "code",
   "execution_count": 43,
   "id": "59393944",
   "metadata": {},
   "outputs": [
    {
     "name": "stdout",
     "output_type": "stream",
     "text": [
      "      product_id                                       product_name  \\\n",
      "1279  B08L12N5H1  Eureka Forbes car Vac 100 Watts Powerful Sucti...   \n",
      "324   B0BQRJ3C47  REDTECH USB-C to Lightning Cable 3.3FT, [Apple...   \n",
      "174   B0BP7XLX48  Syncwire LTG to USB Cable for Fast Charging Co...   \n",
      "775   B09ZHCJDP1  Amazon Basics Wireless Mouse | 2.4 GHz Connect...   \n",
      "1201  B0BQ3K23Y1  Oratech Coffee Frother electric, milk frother ...   \n",
      "1145  B0BR4F878Q  Swiffer Instant Electric Water Heater Faucet T...   \n",
      "1299  B0B53DS4TF  Instant Pot Air Fryer, Vortex 2QT, Touch Contr...   \n",
      "1223  B0BM4KTNL1  FIGMENT Handheld Milk Frother Rechargeable, 3-...   \n",
      "1388  B0BP89YBC1  Campfire Spring Chef Prolix Instant Portable W...   \n",
      "1275  B0BM9H2NY9  Multifunctional 2 in 1 Electric Egg Boiling St...   \n",
      "\n",
      "                                               category  discounted_price  \\\n",
      "1279  Home&Kitchen|Kitchen&HomeAppliances|Vacuum,Cle...            2099.0   \n",
      "324   Computers&Accessories|Accessories&Peripherals|...             249.0   \n",
      "174   Computers&Accessories|Accessories&Peripherals|...             399.0   \n",
      "775   Computers&Accessories|Accessories&Peripherals|...             499.0   \n",
      "1201  Home&Kitchen|Kitchen&HomeAppliances|SmallKitch...             279.0   \n",
      "1145  Home&Kitchen|Heating,Cooling&AirQuality|WaterH...            1439.0   \n",
      "1299  Home&Kitchen|Kitchen&HomeAppliances|SmallKitch...            4995.0   \n",
      "1223  Home&Kitchen|Kitchen&HomeAppliances|SmallKitch...             699.0   \n",
      "1388  Home&Kitchen|Heating,Cooling&AirQuality|WaterH...            1499.0   \n",
      "1275  Home&Kitchen|Kitchen&HomeAppliances|SmallKitch...             699.0   \n",
      "\n",
      "     actual_price  discount_percentage rating rating_count  \\\n",
      "1279     â¹2,499                 16.0      |          992   \n",
      "324        â¹999                 75.0      5          NaN   \n",
      "174      â¹1,999                 80.0      5            5   \n",
      "775      â¹1,000                 50.0      5           23   \n",
      "1201       â¹499                 44.0    4.8           28   \n",
      "1145     â¹1,999                 28.0    4.8       53,803   \n",
      "1299    â¹20,049                 75.0    4.8        3,964   \n",
      "1223     â¹1,599                 56.0    4.7        1,729   \n",
      "1388     â¹3,500                 57.0    4.7        2,591   \n",
      "1275     â¹1,599                 56.0    4.7        2,300   \n",
      "\n",
      "                                          about_product  \\\n",
      "1279  No Installation is provided for this product|1...   \n",
      "324   ð[The Fastest Charge] - This iPhone USB C c...   \n",
      "174   This sturdy and durable cable made of tpe and ...   \n",
      "775   Reliable wireless connection up to 10m|Advance...   \n",
      "1201  -Make delicious milk foam creamer for your dri...   \n",
      "1145  âQuick Electric Hot Water Tap Heating tube: ...   \n",
      "1299  VOLTAGE (230 Volts): Instant Vortex Air Fryer ...   \n",
      "1223  ãRechargeable Multi-Function Milk Frotherã...   \n",
      "1388  Prolix Auto cut off feature: It is available w...   \n",
      "1275                                     Egg Frying Pan   \n",
      "\n",
      "                                                user_id  \\\n",
      "1279  AGTDSNT2FKVYEPDPXAA673AIS44A,AER2XFSWNN4LAUCJ5...   \n",
      "324                        AGJC5O5H5BBXWUV7WRIEIOOR3TVQ   \n",
      "174   AF7EOXYL5K36BDP6PXF6K2TL5TPA,AEN7NV2P5WNHM7EXC...   \n",
      "775   AFLLEPVLIAH2DFSHAZ77KWFM72ZA,AHY2YZWK63CNZ626M...   \n",
      "1201  AGRJZJKWKIE573KM5FWPOH4F7YCA,AEHV4VOLDQX5XYA42...   \n",
      "1145  AEU7DVFEL43XZ6T4D572W2ZLBRKQ,AGWOH7CFDMUVW52NM...   \n",
      "1299  AGXJAYXZKJ6NCPSLX57MXJLQ3F6Q,AEQYSJWBP6DN2IV2L...   \n",
      "1223  AGMHHTX7GPWHZAUTEYQOFEEDFMDQ,AEJJGJQCIEPL3ZBNU...   \n",
      "1388  AEVX4JV3C4QR3Y3V3RJXQ2WZAR4Q,AHR5JZBK66QYZSEJ3...   \n",
      "1275  AFZ2YKWX4KR7MWSA6UOMEGGHT32A,AEP6WZ7AR6XDQSBFS...   \n",
      "\n",
      "                                              user_name  \\\n",
      "1279  Divya,Dr Nefario,Deekshith,Preeti,Prasanth R,P...   \n",
      "324                                         Abdul Gafur   \n",
      "174   Amazon Customer,kamal sahota,Pankaj,luvsmplcty...   \n",
      "775   Rambeer kumar,Ramesh,Digambar Shelke,awadhesh ...   \n",
      "1201  Amazon Customer,Neha Mehta,Nischal Agarwal,tha...   \n",
      "1145                    Yogita g.,Amazon Customer,Mimsy   \n",
      "1299  nikhil,Rituja Ray,Prasan Krishnan Karthikeyan,...   \n",
      "1223  123MovieTime,Ravneet S.,Akash,Mohd Amaan,Panka...   \n",
      "1388  Srujan kumar,Sadhu s.,parveen sharma,Patel kau...   \n",
      "1275  Nitin G.,Veerasomachary,Roshan,Kunwar Indransh...   \n",
      "\n",
      "                                              review_id  \\\n",
      "1279  R2KKTKM4M9RDVJ,R1O692MZOBTE79,R2WRSEWL56SOS4,R...   \n",
      "324                                       RQXD5SAMMPC6L   \n",
      "174   R1L2JNO4Y3BHYF,R2346F22YLZ9IG,R3A4GAQTCPE5U7,R...   \n",
      "775   R76XPXMKXLWKH,R23S77AWPH5FP5,RK7Q6W5FOPESC,R2X...   \n",
      "1201  R3907SDNN9VR5Y,R1NNMXA39722T8,RXQNT49DKJ26S,R2...   \n",
      "1145       R2WHW4PEF14WOD,R2DCCZWUGI0O0K,R1FA1HH6VL1RAL   \n",
      "1299  R2FHIBV8JE4CTB,R315K0BCU0KVKO,RD129PA7KQQOR,R3...   \n",
      "1223  R1YXOQ6ZZI33LZ,R17FVMZGPYPOYZ,R23NCERA0R891T,R...   \n",
      "1388  RBPM3YRVWMMMK,RVY7BZCJPHJZU,R3KXHKIGWPT7IS,R1K...   \n",
      "1275  R2DHTJGY77MOP0,R36IXNHZC037AW,R3GPHUMRV75VWK,R...   \n",
      "\n",
      "                                         review_content  \\\n",
      "1279  Does the job well,doesn't work on sand. though...   \n",
      "324   Quick delivery.Awesome ProductPacking was good...   \n",
      "174   Product is good in quality. Working good with ...   \n",
      "775   I really like this wireless mouse it has becam...   \n",
      "1201  Overall, I love this Oratech Coffee frother an...   \n",
      "1145  Must buy best Fabulous product I recommend thi...   \n",
      "1299  I have used multiple air fryers. But this one ...   \n",
      "1223  Value for money,Not as effective as claimed, j...   \n",
      "1388  I like instant heating, I didn't get warranty ...   \n",
      "1275  Worth buying for eggetarians,Working great so ...   \n",
      "\n",
      "                                           product_link  review_sentiment  \n",
      "1279  https://www.amazon.in/Eureka-Forbes-Vacuum-Cle...          0.142431  \n",
      "324   https://www.amazon.in/REDTECH-Lightning-Certif...          0.333333  \n",
      "174   https://www.amazon.in/Syncwire-Cable-Charging-...          0.495833  \n",
      "775   https://www.amazon.in/Wireless-Connection-Batt...          0.363333  \n",
      "1201  https://www.amazon.in/Oratech-electric-cappucc...          0.422959  \n",
      "1145  https://www.amazon.in/Swiffer-Instant-Electric...          0.487500  \n",
      "1299  https://www.amazon.in/Instant-Vortex-2QT-EvenC...          0.290119  \n",
      "1223  https://www.amazon.in/FIGMENT-Rechargeable-Dec...          0.502593  \n",
      "1388  https://www.amazon.in/Spring-Chef-Stainless-Re...          0.160000  \n",
      "1275  https://www.amazon.in/Multifunctional-Electric...          0.473333  \n"
     ]
    }
   ],
   "source": [
    "# select Top 10 Products and print them\n",
    "top_10_products = df_sorted.head(10)\n",
    "print(top_10_products)"
   ]
  },
  {
   "cell_type": "markdown",
   "id": "cbfabcb6",
   "metadata": {},
   "source": [
    "Conclusion: Through data analysis of the Amazon dataset, I gained valuable insights into the product listings and customer interactions on the platform."
   ]
  }
 ],
 "metadata": {
  "kernelspec": {
   "display_name": "Python 3 (ipykernel)",
   "language": "python",
   "name": "python3"
  },
  "language_info": {
   "codemirror_mode": {
    "name": "ipython",
    "version": 3
   },
   "file_extension": ".py",
   "mimetype": "text/x-python",
   "name": "python",
   "nbconvert_exporter": "python",
   "pygments_lexer": "ipython3",
   "version": "3.10.2"
  }
 },
 "nbformat": 4,
 "nbformat_minor": 5
}
